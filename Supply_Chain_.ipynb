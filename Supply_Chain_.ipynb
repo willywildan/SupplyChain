{
  "nbformat": 4,
  "nbformat_minor": 0,
  "metadata": {
    "colab": {
      "name": "Supply Chain .ipynb",
      "provenance": [],
      "collapsed_sections": [],
      "authorship_tag": "ABX9TyO+9Svlfb2zP5qyA18Ycq1W",
      "include_colab_link": true
    },
    "kernelspec": {
      "name": "python3",
      "display_name": "Python 3"
    },
    "language_info": {
      "name": "python"
    }
  },
  "cells": [
    {
      "cell_type": "markdown",
      "metadata": {
        "id": "view-in-github",
        "colab_type": "text"
      },
      "source": [
        "<a href=\"https://colab.research.google.com/github/willywildan/SupplyChain/blob/main/Supply_Chain_.ipynb\" target=\"_parent\"><img src=\"https://colab.research.google.com/assets/colab-badge.svg\" alt=\"Open In Colab\"/></a>"
      ]
    },
    {
      "cell_type": "code",
      "execution_count": 82,
      "metadata": {
        "id": "PPR7TmptmJIN"
      },
      "outputs": [],
      "source": [
        "import pandas as pd\n",
        "import numpy as np\n",
        "import matplotlib.pyplot as plt\n",
        "import seaborn as sns"
      ]
    },
    {
      "cell_type": "code",
      "source": [
        "from google.colab import drive\n",
        "drive.mount('/content/drive')"
      ],
      "metadata": {
        "colab": {
          "base_uri": "https://localhost:8080/"
        },
        "id": "usImC6nTmS8r",
        "outputId": "0c39c470-7990-485f-967f-922a92a0e86d"
      },
      "execution_count": 83,
      "outputs": [
        {
          "output_type": "stream",
          "name": "stdout",
          "text": [
            "Drive already mounted at /content/drive; to attempt to forcibly remount, call drive.mount(\"/content/drive\", force_remount=True).\n"
          ]
        }
      ]
    },
    {
      "cell_type": "markdown",
      "source": [
        "source data: https://www.kaggle.com/prashantk93/supply-chain-management-for-car"
      ],
      "metadata": {
        "id": "Ag14zkzC5n9h"
      }
    },
    {
      "cell_type": "code",
      "source": [
        "dataset = pd.read_csv(\"/content/drive/My Drive/crisbar/Car_SupplyChainManagementDataSet.csv\", header= 0,encoding= 'unicode_escape', index_col='OrderDate', parse_dates=True) # Import dataset menggunakan pandas\n",
        "dataset.head(5) # Check 5 baris pada dataset"
      ],
      "metadata": {
        "colab": {
          "base_uri": "https://localhost:8080/",
          "height": 422
        },
        "id": "8fo87MDmmaw8",
        "outputId": "dfa44710-6d78-4a2f-dba8-c0c90d2694fc"
      },
      "execution_count": 84,
      "outputs": [
        {
          "output_type": "execute_result",
          "data": {
            "text/html": [
              "\n",
              "  <div id=\"df-739f08d0-cf02-4b61-8113-535086f1a481\">\n",
              "    <div class=\"colab-df-container\">\n",
              "      <div>\n",
              "<style scoped>\n",
              "    .dataframe tbody tr th:only-of-type {\n",
              "        vertical-align: middle;\n",
              "    }\n",
              "\n",
              "    .dataframe tbody tr th {\n",
              "        vertical-align: top;\n",
              "    }\n",
              "\n",
              "    .dataframe thead th {\n",
              "        text-align: right;\n",
              "    }\n",
              "</style>\n",
              "<table border=\"1\" class=\"dataframe\">\n",
              "  <thead>\n",
              "    <tr style=\"text-align: right;\">\n",
              "      <th></th>\n",
              "      <th>SupplierID</th>\n",
              "      <th>SupplierAddress</th>\n",
              "      <th>SupplierName</th>\n",
              "      <th>SupplierContactDetails</th>\n",
              "      <th>ProductID</th>\n",
              "      <th>CarMaker</th>\n",
              "      <th>CarModel</th>\n",
              "      <th>CarColor</th>\n",
              "      <th>CarModelYear</th>\n",
              "      <th>CarPrice</th>\n",
              "      <th>CustomerID</th>\n",
              "      <th>CustomerName</th>\n",
              "      <th>Gender</th>\n",
              "      <th>JobTitle</th>\n",
              "      <th>PhoneNumber</th>\n",
              "      <th>EmailAddress</th>\n",
              "      <th>City</th>\n",
              "      <th>Country</th>\n",
              "      <th>CountryCode</th>\n",
              "      <th>State</th>\n",
              "      <th>CustomerAddress</th>\n",
              "      <th>OrderID</th>\n",
              "      <th>ShipDate</th>\n",
              "      <th>ShipMode</th>\n",
              "      <th>Shipping</th>\n",
              "      <th>PostalCode</th>\n",
              "      <th>Sales</th>\n",
              "      <th>Quantity</th>\n",
              "      <th>Discount</th>\n",
              "      <th>CreditCardType</th>\n",
              "      <th>CreditCard</th>\n",
              "      <th>CustomerFeedback</th>\n",
              "    </tr>\n",
              "    <tr>\n",
              "      <th>OrderDate</th>\n",
              "      <th></th>\n",
              "      <th></th>\n",
              "      <th></th>\n",
              "      <th></th>\n",
              "      <th></th>\n",
              "      <th></th>\n",
              "      <th></th>\n",
              "      <th></th>\n",
              "      <th></th>\n",
              "      <th></th>\n",
              "      <th></th>\n",
              "      <th></th>\n",
              "      <th></th>\n",
              "      <th></th>\n",
              "      <th></th>\n",
              "      <th></th>\n",
              "      <th></th>\n",
              "      <th></th>\n",
              "      <th></th>\n",
              "      <th></th>\n",
              "      <th></th>\n",
              "      <th></th>\n",
              "      <th></th>\n",
              "      <th></th>\n",
              "      <th></th>\n",
              "      <th></th>\n",
              "      <th></th>\n",
              "      <th></th>\n",
              "      <th></th>\n",
              "      <th></th>\n",
              "      <th></th>\n",
              "      <th></th>\n",
              "    </tr>\n",
              "  </thead>\n",
              "  <tbody>\n",
              "    <tr>\n",
              "      <th>2018-12-16</th>\n",
              "      <td>1</td>\n",
              "      <td>542 Dayton Center</td>\n",
              "      <td>Bubbletube</td>\n",
              "      <td>871-57-6028</td>\n",
              "      <td>8893</td>\n",
              "      <td>Dodge</td>\n",
              "      <td>Ram 2500</td>\n",
              "      <td>Goldenrod</td>\n",
              "      <td>2007</td>\n",
              "      <td>521963.45</td>\n",
              "      <td>60760-224</td>\n",
              "      <td>Louie Hinsche</td>\n",
              "      <td>Male</td>\n",
              "      <td>Mechanical Systems Engineer</td>\n",
              "      <td>907-966-3323</td>\n",
              "      <td>lhinsche0@comcast.net</td>\n",
              "      <td>Anchorage</td>\n",
              "      <td>United States</td>\n",
              "      <td>US</td>\n",
              "      <td>Alaska</td>\n",
              "      <td>1 Independence Circle</td>\n",
              "      <td>0268-6694</td>\n",
              "      <td>2019/03/14</td>\n",
              "      <td>Standard Class</td>\n",
              "      <td>Truck</td>\n",
              "      <td>99522</td>\n",
              "      <td>744796.41</td>\n",
              "      <td>1</td>\n",
              "      <td>0.83</td>\n",
              "      <td>diners-club-carte-blanche</td>\n",
              "      <td>30408016042565</td>\n",
              "      <td>Bad</td>\n",
              "    </tr>\n",
              "    <tr>\n",
              "      <th>2019-02-13</th>\n",
              "      <td>2</td>\n",
              "      <td>0674 Springview Circle</td>\n",
              "      <td>Tagopia</td>\n",
              "      <td>337-64-4060</td>\n",
              "      <td>9444</td>\n",
              "      <td>Toyota</td>\n",
              "      <td>Tundra</td>\n",
              "      <td>Crimson</td>\n",
              "      <td>2010</td>\n",
              "      <td>672222.04</td>\n",
              "      <td>67457-594</td>\n",
              "      <td>Alexandros Manuel</td>\n",
              "      <td>Male</td>\n",
              "      <td>Structural Engineer</td>\n",
              "      <td>320-943-9301</td>\n",
              "      <td>amanuel1@usnews.com</td>\n",
              "      <td>Saint Cloud</td>\n",
              "      <td>United States</td>\n",
              "      <td>US</td>\n",
              "      <td>Minnesota</td>\n",
              "      <td>209 Lerdahl Alley</td>\n",
              "      <td>0699-5728</td>\n",
              "      <td>2019/03/06</td>\n",
              "      <td>Standard Class</td>\n",
              "      <td>Truck</td>\n",
              "      <td>56398</td>\n",
              "      <td>794773.17</td>\n",
              "      <td>1</td>\n",
              "      <td>0.79</td>\n",
              "      <td>jcb</td>\n",
              "      <td>3549221112237767</td>\n",
              "      <td>Good</td>\n",
              "    </tr>\n",
              "    <tr>\n",
              "      <th>2018-08-16</th>\n",
              "      <td>3</td>\n",
              "      <td>70 Autumn Leaf Center</td>\n",
              "      <td>Zoomdog</td>\n",
              "      <td>218-19-1802</td>\n",
              "      <td>253</td>\n",
              "      <td>GMC</td>\n",
              "      <td>Savana 1500</td>\n",
              "      <td>Crimson</td>\n",
              "      <td>2011</td>\n",
              "      <td>504465.72</td>\n",
              "      <td>58411-135</td>\n",
              "      <td>Alvie Weighell</td>\n",
              "      <td>Male</td>\n",
              "      <td>Systems Administrator III</td>\n",
              "      <td>312-561-8337</td>\n",
              "      <td>aweighell2@nature.com</td>\n",
              "      <td>Chicago</td>\n",
              "      <td>United States</td>\n",
              "      <td>US</td>\n",
              "      <td>Illinois</td>\n",
              "      <td>1803 Evergreen Trail</td>\n",
              "      <td>42043-251</td>\n",
              "      <td>2019/01/20</td>\n",
              "      <td>Second Class</td>\n",
              "      <td>Air</td>\n",
              "      <td>60674</td>\n",
              "      <td>968244.90</td>\n",
              "      <td>1</td>\n",
              "      <td>0.28</td>\n",
              "      <td>jcb</td>\n",
              "      <td>3557159608180902</td>\n",
              "      <td>Okay</td>\n",
              "    </tr>\n",
              "    <tr>\n",
              "      <th>2019-02-22</th>\n",
              "      <td>4</td>\n",
              "      <td>649 Corben Lane</td>\n",
              "      <td>Oozz</td>\n",
              "      <td>635-15-3112</td>\n",
              "      <td>1283</td>\n",
              "      <td>Volkswagen</td>\n",
              "      <td>Cabriolet</td>\n",
              "      <td>Fuscia</td>\n",
              "      <td>1990</td>\n",
              "      <td>646077.11</td>\n",
              "      <td>0591-5307</td>\n",
              "      <td>Flint Gunston</td>\n",
              "      <td>Male</td>\n",
              "      <td>Operator</td>\n",
              "      <td>407-830-3175</td>\n",
              "      <td>fgunston3@mozilla.org</td>\n",
              "      <td>Orlando</td>\n",
              "      <td>United States</td>\n",
              "      <td>US</td>\n",
              "      <td>Florida</td>\n",
              "      <td>9682 Warbler Terrace</td>\n",
              "      <td>57520-1044</td>\n",
              "      <td>2019/03/16</td>\n",
              "      <td>First Class</td>\n",
              "      <td>Truck</td>\n",
              "      <td>32885</td>\n",
              "      <td>942213.82</td>\n",
              "      <td>2</td>\n",
              "      <td>0.76</td>\n",
              "      <td>jcb</td>\n",
              "      <td>3529909223663921</td>\n",
              "      <td>Very Bad</td>\n",
              "    </tr>\n",
              "    <tr>\n",
              "      <th>2018-09-06</th>\n",
              "      <td>5</td>\n",
              "      <td>94 Namekagon Point</td>\n",
              "      <td>Kare</td>\n",
              "      <td>849-23-6788</td>\n",
              "      <td>8905</td>\n",
              "      <td>Mercury</td>\n",
              "      <td>Mariner</td>\n",
              "      <td>Teal</td>\n",
              "      <td>2009</td>\n",
              "      <td>699890.24</td>\n",
              "      <td>51655-189</td>\n",
              "      <td>Alyssa Filpi</td>\n",
              "      <td>Female</td>\n",
              "      <td>Software Engineer III</td>\n",
              "      <td>313-870-7247</td>\n",
              "      <td>afilpi4@webs.com</td>\n",
              "      <td>Detroit</td>\n",
              "      <td>United States</td>\n",
              "      <td>US</td>\n",
              "      <td>Michigan</td>\n",
              "      <td>5751 Tony Avenue</td>\n",
              "      <td>36987-3308</td>\n",
              "      <td>2019/01/29</td>\n",
              "      <td>Second Class</td>\n",
              "      <td>Air</td>\n",
              "      <td>48232</td>\n",
              "      <td>879519.57</td>\n",
              "      <td>1</td>\n",
              "      <td>0.50</td>\n",
              "      <td>china-unionpay</td>\n",
              "      <td>5602235978541517</td>\n",
              "      <td>Bad</td>\n",
              "    </tr>\n",
              "  </tbody>\n",
              "</table>\n",
              "</div>\n",
              "      <button class=\"colab-df-convert\" onclick=\"convertToInteractive('df-739f08d0-cf02-4b61-8113-535086f1a481')\"\n",
              "              title=\"Convert this dataframe to an interactive table.\"\n",
              "              style=\"display:none;\">\n",
              "        \n",
              "  <svg xmlns=\"http://www.w3.org/2000/svg\" height=\"24px\"viewBox=\"0 0 24 24\"\n",
              "       width=\"24px\">\n",
              "    <path d=\"M0 0h24v24H0V0z\" fill=\"none\"/>\n",
              "    <path d=\"M18.56 5.44l.94 2.06.94-2.06 2.06-.94-2.06-.94-.94-2.06-.94 2.06-2.06.94zm-11 1L8.5 8.5l.94-2.06 2.06-.94-2.06-.94L8.5 2.5l-.94 2.06-2.06.94zm10 10l.94 2.06.94-2.06 2.06-.94-2.06-.94-.94-2.06-.94 2.06-2.06.94z\"/><path d=\"M17.41 7.96l-1.37-1.37c-.4-.4-.92-.59-1.43-.59-.52 0-1.04.2-1.43.59L10.3 9.45l-7.72 7.72c-.78.78-.78 2.05 0 2.83L4 21.41c.39.39.9.59 1.41.59.51 0 1.02-.2 1.41-.59l7.78-7.78 2.81-2.81c.8-.78.8-2.07 0-2.86zM5.41 20L4 18.59l7.72-7.72 1.47 1.35L5.41 20z\"/>\n",
              "  </svg>\n",
              "      </button>\n",
              "      \n",
              "  <style>\n",
              "    .colab-df-container {\n",
              "      display:flex;\n",
              "      flex-wrap:wrap;\n",
              "      gap: 12px;\n",
              "    }\n",
              "\n",
              "    .colab-df-convert {\n",
              "      background-color: #E8F0FE;\n",
              "      border: none;\n",
              "      border-radius: 50%;\n",
              "      cursor: pointer;\n",
              "      display: none;\n",
              "      fill: #1967D2;\n",
              "      height: 32px;\n",
              "      padding: 0 0 0 0;\n",
              "      width: 32px;\n",
              "    }\n",
              "\n",
              "    .colab-df-convert:hover {\n",
              "      background-color: #E2EBFA;\n",
              "      box-shadow: 0px 1px 2px rgba(60, 64, 67, 0.3), 0px 1px 3px 1px rgba(60, 64, 67, 0.15);\n",
              "      fill: #174EA6;\n",
              "    }\n",
              "\n",
              "    [theme=dark] .colab-df-convert {\n",
              "      background-color: #3B4455;\n",
              "      fill: #D2E3FC;\n",
              "    }\n",
              "\n",
              "    [theme=dark] .colab-df-convert:hover {\n",
              "      background-color: #434B5C;\n",
              "      box-shadow: 0px 1px 3px 1px rgba(0, 0, 0, 0.15);\n",
              "      filter: drop-shadow(0px 1px 2px rgba(0, 0, 0, 0.3));\n",
              "      fill: #FFFFFF;\n",
              "    }\n",
              "  </style>\n",
              "\n",
              "      <script>\n",
              "        const buttonEl =\n",
              "          document.querySelector('#df-739f08d0-cf02-4b61-8113-535086f1a481 button.colab-df-convert');\n",
              "        buttonEl.style.display =\n",
              "          google.colab.kernel.accessAllowed ? 'block' : 'none';\n",
              "\n",
              "        async function convertToInteractive(key) {\n",
              "          const element = document.querySelector('#df-739f08d0-cf02-4b61-8113-535086f1a481');\n",
              "          const dataTable =\n",
              "            await google.colab.kernel.invokeFunction('convertToInteractive',\n",
              "                                                     [key], {});\n",
              "          if (!dataTable) return;\n",
              "\n",
              "          const docLinkHtml = 'Like what you see? Visit the ' +\n",
              "            '<a target=\"_blank\" href=https://colab.research.google.com/notebooks/data_table.ipynb>data table notebook</a>'\n",
              "            + ' to learn more about interactive tables.';\n",
              "          element.innerHTML = '';\n",
              "          dataTable['output_type'] = 'display_data';\n",
              "          await google.colab.output.renderOutput(dataTable, element);\n",
              "          const docLink = document.createElement('div');\n",
              "          docLink.innerHTML = docLinkHtml;\n",
              "          element.appendChild(docLink);\n",
              "        }\n",
              "      </script>\n",
              "    </div>\n",
              "  </div>\n",
              "  "
            ],
            "text/plain": [
              "            SupplierID  ... CustomerFeedback\n",
              "OrderDate               ...                 \n",
              "2018-12-16           1  ...              Bad\n",
              "2019-02-13           2  ...             Good\n",
              "2018-08-16           3  ...             Okay\n",
              "2019-02-22           4  ...         Very Bad\n",
              "2018-09-06           5  ...              Bad\n",
              "\n",
              "[5 rows x 32 columns]"
            ]
          },
          "metadata": {},
          "execution_count": 84
        }
      ]
    },
    {
      "cell_type": "code",
      "source": [
        "dataset.shape"
      ],
      "metadata": {
        "colab": {
          "base_uri": "https://localhost:8080/"
        },
        "id": "iP3m2OjLnTcp",
        "outputId": "5f540a5a-7519-4b22-addc-967f7054356e"
      },
      "execution_count": 85,
      "outputs": [
        {
          "output_type": "execute_result",
          "data": {
            "text/plain": [
              "(1000, 32)"
            ]
          },
          "metadata": {},
          "execution_count": 85
        }
      ]
    },
    {
      "cell_type": "code",
      "source": [
        "dataset.duplicated().sum()"
      ],
      "metadata": {
        "colab": {
          "base_uri": "https://localhost:8080/"
        },
        "id": "h_kCHp9Zng7M",
        "outputId": "687e8339-e683-4bd3-b22e-69696f96276b"
      },
      "execution_count": 86,
      "outputs": [
        {
          "output_type": "execute_result",
          "data": {
            "text/plain": [
              "0"
            ]
          },
          "metadata": {},
          "execution_count": 86
        }
      ]
    },
    {
      "cell_type": "code",
      "source": [
        "dataset.info()"
      ],
      "metadata": {
        "colab": {
          "base_uri": "https://localhost:8080/"
        },
        "id": "OixjJ6KnnH0v",
        "outputId": "bbac3e2d-391b-4b04-cc65-628210e22db1"
      },
      "execution_count": 87,
      "outputs": [
        {
          "output_type": "stream",
          "name": "stdout",
          "text": [
            "<class 'pandas.core.frame.DataFrame'>\n",
            "DatetimeIndex: 1000 entries, 2018-12-16 to 2018-08-28\n",
            "Data columns (total 32 columns):\n",
            " #   Column                  Non-Null Count  Dtype  \n",
            "---  ------                  --------------  -----  \n",
            " 0   SupplierID              1000 non-null   int64  \n",
            " 1   SupplierAddress         1000 non-null   object \n",
            " 2   SupplierName            1000 non-null   object \n",
            " 3   SupplierContactDetails  1000 non-null   object \n",
            " 4   ProductID               1000 non-null   int64  \n",
            " 5   CarMaker                1000 non-null   object \n",
            " 6   CarModel                1000 non-null   object \n",
            " 7   CarColor                1000 non-null   object \n",
            " 8   CarModelYear            1000 non-null   int64  \n",
            " 9   CarPrice                1000 non-null   float64\n",
            " 10  CustomerID              1000 non-null   object \n",
            " 11  CustomerName            1000 non-null   object \n",
            " 12  Gender                  1000 non-null   object \n",
            " 13  JobTitle                1000 non-null   object \n",
            " 14  PhoneNumber             1000 non-null   object \n",
            " 15  EmailAddress            1000 non-null   object \n",
            " 16  City                    1000 non-null   object \n",
            " 17  Country                 1000 non-null   object \n",
            " 18  CountryCode             1000 non-null   object \n",
            " 19  State                   1000 non-null   object \n",
            " 20  CustomerAddress         1000 non-null   object \n",
            " 21  OrderID                 1000 non-null   object \n",
            " 22  ShipDate                1000 non-null   object \n",
            " 23  ShipMode                1000 non-null   object \n",
            " 24  Shipping                1000 non-null   object \n",
            " 25  PostalCode              1000 non-null   int64  \n",
            " 26  Sales                   1000 non-null   float64\n",
            " 27  Quantity                1000 non-null   int64  \n",
            " 28  Discount                1000 non-null   float64\n",
            " 29  CreditCardType          1000 non-null   object \n",
            " 30  CreditCard              1000 non-null   int64  \n",
            " 31  CustomerFeedback        1000 non-null   object \n",
            "dtypes: float64(3), int64(6), object(23)\n",
            "memory usage: 257.8+ KB\n"
          ]
        }
      ]
    },
    {
      "cell_type": "code",
      "source": [
        "#check missing values\n",
        "dataset.isna().sum() "
      ],
      "metadata": {
        "colab": {
          "base_uri": "https://localhost:8080/"
        },
        "id": "X8IPeGdMniE3",
        "outputId": "e67d97e8-4be2-4ac1-e6f5-2b78e1f3e1d3"
      },
      "execution_count": 88,
      "outputs": [
        {
          "output_type": "execute_result",
          "data": {
            "text/plain": [
              "SupplierID                0\n",
              "SupplierAddress           0\n",
              "SupplierName              0\n",
              "SupplierContactDetails    0\n",
              "ProductID                 0\n",
              "CarMaker                  0\n",
              "CarModel                  0\n",
              "CarColor                  0\n",
              "CarModelYear              0\n",
              "CarPrice                  0\n",
              "CustomerID                0\n",
              "CustomerName              0\n",
              "Gender                    0\n",
              "JobTitle                  0\n",
              "PhoneNumber               0\n",
              "EmailAddress              0\n",
              "City                      0\n",
              "Country                   0\n",
              "CountryCode               0\n",
              "State                     0\n",
              "CustomerAddress           0\n",
              "OrderID                   0\n",
              "ShipDate                  0\n",
              "ShipMode                  0\n",
              "Shipping                  0\n",
              "PostalCode                0\n",
              "Sales                     0\n",
              "Quantity                  0\n",
              "Discount                  0\n",
              "CreditCardType            0\n",
              "CreditCard                0\n",
              "CustomerFeedback          0\n",
              "dtype: int64"
            ]
          },
          "metadata": {},
          "execution_count": 88
        }
      ]
    },
    {
      "cell_type": "code",
      "source": [
        "dataset.head()"
      ],
      "metadata": {
        "colab": {
          "base_uri": "https://localhost:8080/",
          "height": 422
        },
        "id": "ONRJnwmznqyW",
        "outputId": "33140ae3-9317-4d5c-8e30-8a47919da7a6"
      },
      "execution_count": 89,
      "outputs": [
        {
          "output_type": "execute_result",
          "data": {
            "text/html": [
              "\n",
              "  <div id=\"df-e9230533-64b4-4c72-b79e-5af91a0fc31e\">\n",
              "    <div class=\"colab-df-container\">\n",
              "      <div>\n",
              "<style scoped>\n",
              "    .dataframe tbody tr th:only-of-type {\n",
              "        vertical-align: middle;\n",
              "    }\n",
              "\n",
              "    .dataframe tbody tr th {\n",
              "        vertical-align: top;\n",
              "    }\n",
              "\n",
              "    .dataframe thead th {\n",
              "        text-align: right;\n",
              "    }\n",
              "</style>\n",
              "<table border=\"1\" class=\"dataframe\">\n",
              "  <thead>\n",
              "    <tr style=\"text-align: right;\">\n",
              "      <th></th>\n",
              "      <th>SupplierID</th>\n",
              "      <th>SupplierAddress</th>\n",
              "      <th>SupplierName</th>\n",
              "      <th>SupplierContactDetails</th>\n",
              "      <th>ProductID</th>\n",
              "      <th>CarMaker</th>\n",
              "      <th>CarModel</th>\n",
              "      <th>CarColor</th>\n",
              "      <th>CarModelYear</th>\n",
              "      <th>CarPrice</th>\n",
              "      <th>CustomerID</th>\n",
              "      <th>CustomerName</th>\n",
              "      <th>Gender</th>\n",
              "      <th>JobTitle</th>\n",
              "      <th>PhoneNumber</th>\n",
              "      <th>EmailAddress</th>\n",
              "      <th>City</th>\n",
              "      <th>Country</th>\n",
              "      <th>CountryCode</th>\n",
              "      <th>State</th>\n",
              "      <th>CustomerAddress</th>\n",
              "      <th>OrderID</th>\n",
              "      <th>ShipDate</th>\n",
              "      <th>ShipMode</th>\n",
              "      <th>Shipping</th>\n",
              "      <th>PostalCode</th>\n",
              "      <th>Sales</th>\n",
              "      <th>Quantity</th>\n",
              "      <th>Discount</th>\n",
              "      <th>CreditCardType</th>\n",
              "      <th>CreditCard</th>\n",
              "      <th>CustomerFeedback</th>\n",
              "    </tr>\n",
              "    <tr>\n",
              "      <th>OrderDate</th>\n",
              "      <th></th>\n",
              "      <th></th>\n",
              "      <th></th>\n",
              "      <th></th>\n",
              "      <th></th>\n",
              "      <th></th>\n",
              "      <th></th>\n",
              "      <th></th>\n",
              "      <th></th>\n",
              "      <th></th>\n",
              "      <th></th>\n",
              "      <th></th>\n",
              "      <th></th>\n",
              "      <th></th>\n",
              "      <th></th>\n",
              "      <th></th>\n",
              "      <th></th>\n",
              "      <th></th>\n",
              "      <th></th>\n",
              "      <th></th>\n",
              "      <th></th>\n",
              "      <th></th>\n",
              "      <th></th>\n",
              "      <th></th>\n",
              "      <th></th>\n",
              "      <th></th>\n",
              "      <th></th>\n",
              "      <th></th>\n",
              "      <th></th>\n",
              "      <th></th>\n",
              "      <th></th>\n",
              "      <th></th>\n",
              "    </tr>\n",
              "  </thead>\n",
              "  <tbody>\n",
              "    <tr>\n",
              "      <th>2018-12-16</th>\n",
              "      <td>1</td>\n",
              "      <td>542 Dayton Center</td>\n",
              "      <td>Bubbletube</td>\n",
              "      <td>871-57-6028</td>\n",
              "      <td>8893</td>\n",
              "      <td>Dodge</td>\n",
              "      <td>Ram 2500</td>\n",
              "      <td>Goldenrod</td>\n",
              "      <td>2007</td>\n",
              "      <td>521963.45</td>\n",
              "      <td>60760-224</td>\n",
              "      <td>Louie Hinsche</td>\n",
              "      <td>Male</td>\n",
              "      <td>Mechanical Systems Engineer</td>\n",
              "      <td>907-966-3323</td>\n",
              "      <td>lhinsche0@comcast.net</td>\n",
              "      <td>Anchorage</td>\n",
              "      <td>United States</td>\n",
              "      <td>US</td>\n",
              "      <td>Alaska</td>\n",
              "      <td>1 Independence Circle</td>\n",
              "      <td>0268-6694</td>\n",
              "      <td>2019/03/14</td>\n",
              "      <td>Standard Class</td>\n",
              "      <td>Truck</td>\n",
              "      <td>99522</td>\n",
              "      <td>744796.41</td>\n",
              "      <td>1</td>\n",
              "      <td>0.83</td>\n",
              "      <td>diners-club-carte-blanche</td>\n",
              "      <td>30408016042565</td>\n",
              "      <td>Bad</td>\n",
              "    </tr>\n",
              "    <tr>\n",
              "      <th>2019-02-13</th>\n",
              "      <td>2</td>\n",
              "      <td>0674 Springview Circle</td>\n",
              "      <td>Tagopia</td>\n",
              "      <td>337-64-4060</td>\n",
              "      <td>9444</td>\n",
              "      <td>Toyota</td>\n",
              "      <td>Tundra</td>\n",
              "      <td>Crimson</td>\n",
              "      <td>2010</td>\n",
              "      <td>672222.04</td>\n",
              "      <td>67457-594</td>\n",
              "      <td>Alexandros Manuel</td>\n",
              "      <td>Male</td>\n",
              "      <td>Structural Engineer</td>\n",
              "      <td>320-943-9301</td>\n",
              "      <td>amanuel1@usnews.com</td>\n",
              "      <td>Saint Cloud</td>\n",
              "      <td>United States</td>\n",
              "      <td>US</td>\n",
              "      <td>Minnesota</td>\n",
              "      <td>209 Lerdahl Alley</td>\n",
              "      <td>0699-5728</td>\n",
              "      <td>2019/03/06</td>\n",
              "      <td>Standard Class</td>\n",
              "      <td>Truck</td>\n",
              "      <td>56398</td>\n",
              "      <td>794773.17</td>\n",
              "      <td>1</td>\n",
              "      <td>0.79</td>\n",
              "      <td>jcb</td>\n",
              "      <td>3549221112237767</td>\n",
              "      <td>Good</td>\n",
              "    </tr>\n",
              "    <tr>\n",
              "      <th>2018-08-16</th>\n",
              "      <td>3</td>\n",
              "      <td>70 Autumn Leaf Center</td>\n",
              "      <td>Zoomdog</td>\n",
              "      <td>218-19-1802</td>\n",
              "      <td>253</td>\n",
              "      <td>GMC</td>\n",
              "      <td>Savana 1500</td>\n",
              "      <td>Crimson</td>\n",
              "      <td>2011</td>\n",
              "      <td>504465.72</td>\n",
              "      <td>58411-135</td>\n",
              "      <td>Alvie Weighell</td>\n",
              "      <td>Male</td>\n",
              "      <td>Systems Administrator III</td>\n",
              "      <td>312-561-8337</td>\n",
              "      <td>aweighell2@nature.com</td>\n",
              "      <td>Chicago</td>\n",
              "      <td>United States</td>\n",
              "      <td>US</td>\n",
              "      <td>Illinois</td>\n",
              "      <td>1803 Evergreen Trail</td>\n",
              "      <td>42043-251</td>\n",
              "      <td>2019/01/20</td>\n",
              "      <td>Second Class</td>\n",
              "      <td>Air</td>\n",
              "      <td>60674</td>\n",
              "      <td>968244.90</td>\n",
              "      <td>1</td>\n",
              "      <td>0.28</td>\n",
              "      <td>jcb</td>\n",
              "      <td>3557159608180902</td>\n",
              "      <td>Okay</td>\n",
              "    </tr>\n",
              "    <tr>\n",
              "      <th>2019-02-22</th>\n",
              "      <td>4</td>\n",
              "      <td>649 Corben Lane</td>\n",
              "      <td>Oozz</td>\n",
              "      <td>635-15-3112</td>\n",
              "      <td>1283</td>\n",
              "      <td>Volkswagen</td>\n",
              "      <td>Cabriolet</td>\n",
              "      <td>Fuscia</td>\n",
              "      <td>1990</td>\n",
              "      <td>646077.11</td>\n",
              "      <td>0591-5307</td>\n",
              "      <td>Flint Gunston</td>\n",
              "      <td>Male</td>\n",
              "      <td>Operator</td>\n",
              "      <td>407-830-3175</td>\n",
              "      <td>fgunston3@mozilla.org</td>\n",
              "      <td>Orlando</td>\n",
              "      <td>United States</td>\n",
              "      <td>US</td>\n",
              "      <td>Florida</td>\n",
              "      <td>9682 Warbler Terrace</td>\n",
              "      <td>57520-1044</td>\n",
              "      <td>2019/03/16</td>\n",
              "      <td>First Class</td>\n",
              "      <td>Truck</td>\n",
              "      <td>32885</td>\n",
              "      <td>942213.82</td>\n",
              "      <td>2</td>\n",
              "      <td>0.76</td>\n",
              "      <td>jcb</td>\n",
              "      <td>3529909223663921</td>\n",
              "      <td>Very Bad</td>\n",
              "    </tr>\n",
              "    <tr>\n",
              "      <th>2018-09-06</th>\n",
              "      <td>5</td>\n",
              "      <td>94 Namekagon Point</td>\n",
              "      <td>Kare</td>\n",
              "      <td>849-23-6788</td>\n",
              "      <td>8905</td>\n",
              "      <td>Mercury</td>\n",
              "      <td>Mariner</td>\n",
              "      <td>Teal</td>\n",
              "      <td>2009</td>\n",
              "      <td>699890.24</td>\n",
              "      <td>51655-189</td>\n",
              "      <td>Alyssa Filpi</td>\n",
              "      <td>Female</td>\n",
              "      <td>Software Engineer III</td>\n",
              "      <td>313-870-7247</td>\n",
              "      <td>afilpi4@webs.com</td>\n",
              "      <td>Detroit</td>\n",
              "      <td>United States</td>\n",
              "      <td>US</td>\n",
              "      <td>Michigan</td>\n",
              "      <td>5751 Tony Avenue</td>\n",
              "      <td>36987-3308</td>\n",
              "      <td>2019/01/29</td>\n",
              "      <td>Second Class</td>\n",
              "      <td>Air</td>\n",
              "      <td>48232</td>\n",
              "      <td>879519.57</td>\n",
              "      <td>1</td>\n",
              "      <td>0.50</td>\n",
              "      <td>china-unionpay</td>\n",
              "      <td>5602235978541517</td>\n",
              "      <td>Bad</td>\n",
              "    </tr>\n",
              "  </tbody>\n",
              "</table>\n",
              "</div>\n",
              "      <button class=\"colab-df-convert\" onclick=\"convertToInteractive('df-e9230533-64b4-4c72-b79e-5af91a0fc31e')\"\n",
              "              title=\"Convert this dataframe to an interactive table.\"\n",
              "              style=\"display:none;\">\n",
              "        \n",
              "  <svg xmlns=\"http://www.w3.org/2000/svg\" height=\"24px\"viewBox=\"0 0 24 24\"\n",
              "       width=\"24px\">\n",
              "    <path d=\"M0 0h24v24H0V0z\" fill=\"none\"/>\n",
              "    <path d=\"M18.56 5.44l.94 2.06.94-2.06 2.06-.94-2.06-.94-.94-2.06-.94 2.06-2.06.94zm-11 1L8.5 8.5l.94-2.06 2.06-.94-2.06-.94L8.5 2.5l-.94 2.06-2.06.94zm10 10l.94 2.06.94-2.06 2.06-.94-2.06-.94-.94-2.06-.94 2.06-2.06.94z\"/><path d=\"M17.41 7.96l-1.37-1.37c-.4-.4-.92-.59-1.43-.59-.52 0-1.04.2-1.43.59L10.3 9.45l-7.72 7.72c-.78.78-.78 2.05 0 2.83L4 21.41c.39.39.9.59 1.41.59.51 0 1.02-.2 1.41-.59l7.78-7.78 2.81-2.81c.8-.78.8-2.07 0-2.86zM5.41 20L4 18.59l7.72-7.72 1.47 1.35L5.41 20z\"/>\n",
              "  </svg>\n",
              "      </button>\n",
              "      \n",
              "  <style>\n",
              "    .colab-df-container {\n",
              "      display:flex;\n",
              "      flex-wrap:wrap;\n",
              "      gap: 12px;\n",
              "    }\n",
              "\n",
              "    .colab-df-convert {\n",
              "      background-color: #E8F0FE;\n",
              "      border: none;\n",
              "      border-radius: 50%;\n",
              "      cursor: pointer;\n",
              "      display: none;\n",
              "      fill: #1967D2;\n",
              "      height: 32px;\n",
              "      padding: 0 0 0 0;\n",
              "      width: 32px;\n",
              "    }\n",
              "\n",
              "    .colab-df-convert:hover {\n",
              "      background-color: #E2EBFA;\n",
              "      box-shadow: 0px 1px 2px rgba(60, 64, 67, 0.3), 0px 1px 3px 1px rgba(60, 64, 67, 0.15);\n",
              "      fill: #174EA6;\n",
              "    }\n",
              "\n",
              "    [theme=dark] .colab-df-convert {\n",
              "      background-color: #3B4455;\n",
              "      fill: #D2E3FC;\n",
              "    }\n",
              "\n",
              "    [theme=dark] .colab-df-convert:hover {\n",
              "      background-color: #434B5C;\n",
              "      box-shadow: 0px 1px 3px 1px rgba(0, 0, 0, 0.15);\n",
              "      filter: drop-shadow(0px 1px 2px rgba(0, 0, 0, 0.3));\n",
              "      fill: #FFFFFF;\n",
              "    }\n",
              "  </style>\n",
              "\n",
              "      <script>\n",
              "        const buttonEl =\n",
              "          document.querySelector('#df-e9230533-64b4-4c72-b79e-5af91a0fc31e button.colab-df-convert');\n",
              "        buttonEl.style.display =\n",
              "          google.colab.kernel.accessAllowed ? 'block' : 'none';\n",
              "\n",
              "        async function convertToInteractive(key) {\n",
              "          const element = document.querySelector('#df-e9230533-64b4-4c72-b79e-5af91a0fc31e');\n",
              "          const dataTable =\n",
              "            await google.colab.kernel.invokeFunction('convertToInteractive',\n",
              "                                                     [key], {});\n",
              "          if (!dataTable) return;\n",
              "\n",
              "          const docLinkHtml = 'Like what you see? Visit the ' +\n",
              "            '<a target=\"_blank\" href=https://colab.research.google.com/notebooks/data_table.ipynb>data table notebook</a>'\n",
              "            + ' to learn more about interactive tables.';\n",
              "          element.innerHTML = '';\n",
              "          dataTable['output_type'] = 'display_data';\n",
              "          await google.colab.output.renderOutput(dataTable, element);\n",
              "          const docLink = document.createElement('div');\n",
              "          docLink.innerHTML = docLinkHtml;\n",
              "          element.appendChild(docLink);\n",
              "        }\n",
              "      </script>\n",
              "    </div>\n",
              "  </div>\n",
              "  "
            ],
            "text/plain": [
              "            SupplierID  ... CustomerFeedback\n",
              "OrderDate               ...                 \n",
              "2018-12-16           1  ...              Bad\n",
              "2019-02-13           2  ...             Good\n",
              "2018-08-16           3  ...             Okay\n",
              "2019-02-22           4  ...         Very Bad\n",
              "2018-09-06           5  ...              Bad\n",
              "\n",
              "[5 rows x 32 columns]"
            ]
          },
          "metadata": {},
          "execution_count": 89
        }
      ]
    },
    {
      "cell_type": "code",
      "source": [
        "#Menghilangkan kolom yang tidak diperlukan\n",
        "data = dataset.drop(['SupplierAddress','SupplierContactDetails','PhoneNumber','EmailAddress','Country','CountryCode','CustomerAddress','PostalCode','CreditCard'],axis=1)\n",
        "data.shape"
      ],
      "metadata": {
        "colab": {
          "base_uri": "https://localhost:8080/"
        },
        "id": "CEoFPzInn8p6",
        "outputId": "101ad374-e042-434d-ecd3-aaf30bd65ea5"
      },
      "execution_count": 90,
      "outputs": [
        {
          "output_type": "execute_result",
          "data": {
            "text/plain": [
              "(1000, 23)"
            ]
          },
          "metadata": {},
          "execution_count": 90
        }
      ]
    },
    {
      "cell_type": "code",
      "source": [
        "data.head()"
      ],
      "metadata": {
        "colab": {
          "base_uri": "https://localhost:8080/",
          "height": 422
        },
        "id": "JtBnEkFkHvly",
        "outputId": "b02c5c76-9e53-4525-b5a9-f7f4f8f298dc"
      },
      "execution_count": 91,
      "outputs": [
        {
          "output_type": "execute_result",
          "data": {
            "text/html": [
              "\n",
              "  <div id=\"df-94ffc896-703b-4d8f-acb6-dba4c81682ad\">\n",
              "    <div class=\"colab-df-container\">\n",
              "      <div>\n",
              "<style scoped>\n",
              "    .dataframe tbody tr th:only-of-type {\n",
              "        vertical-align: middle;\n",
              "    }\n",
              "\n",
              "    .dataframe tbody tr th {\n",
              "        vertical-align: top;\n",
              "    }\n",
              "\n",
              "    .dataframe thead th {\n",
              "        text-align: right;\n",
              "    }\n",
              "</style>\n",
              "<table border=\"1\" class=\"dataframe\">\n",
              "  <thead>\n",
              "    <tr style=\"text-align: right;\">\n",
              "      <th></th>\n",
              "      <th>SupplierID</th>\n",
              "      <th>SupplierName</th>\n",
              "      <th>ProductID</th>\n",
              "      <th>CarMaker</th>\n",
              "      <th>CarModel</th>\n",
              "      <th>CarColor</th>\n",
              "      <th>CarModelYear</th>\n",
              "      <th>CarPrice</th>\n",
              "      <th>CustomerID</th>\n",
              "      <th>CustomerName</th>\n",
              "      <th>Gender</th>\n",
              "      <th>JobTitle</th>\n",
              "      <th>City</th>\n",
              "      <th>State</th>\n",
              "      <th>OrderID</th>\n",
              "      <th>ShipDate</th>\n",
              "      <th>ShipMode</th>\n",
              "      <th>Shipping</th>\n",
              "      <th>Sales</th>\n",
              "      <th>Quantity</th>\n",
              "      <th>Discount</th>\n",
              "      <th>CreditCardType</th>\n",
              "      <th>CustomerFeedback</th>\n",
              "    </tr>\n",
              "    <tr>\n",
              "      <th>OrderDate</th>\n",
              "      <th></th>\n",
              "      <th></th>\n",
              "      <th></th>\n",
              "      <th></th>\n",
              "      <th></th>\n",
              "      <th></th>\n",
              "      <th></th>\n",
              "      <th></th>\n",
              "      <th></th>\n",
              "      <th></th>\n",
              "      <th></th>\n",
              "      <th></th>\n",
              "      <th></th>\n",
              "      <th></th>\n",
              "      <th></th>\n",
              "      <th></th>\n",
              "      <th></th>\n",
              "      <th></th>\n",
              "      <th></th>\n",
              "      <th></th>\n",
              "      <th></th>\n",
              "      <th></th>\n",
              "      <th></th>\n",
              "    </tr>\n",
              "  </thead>\n",
              "  <tbody>\n",
              "    <tr>\n",
              "      <th>2018-12-16</th>\n",
              "      <td>1</td>\n",
              "      <td>Bubbletube</td>\n",
              "      <td>8893</td>\n",
              "      <td>Dodge</td>\n",
              "      <td>Ram 2500</td>\n",
              "      <td>Goldenrod</td>\n",
              "      <td>2007</td>\n",
              "      <td>521963.45</td>\n",
              "      <td>60760-224</td>\n",
              "      <td>Louie Hinsche</td>\n",
              "      <td>Male</td>\n",
              "      <td>Mechanical Systems Engineer</td>\n",
              "      <td>Anchorage</td>\n",
              "      <td>Alaska</td>\n",
              "      <td>0268-6694</td>\n",
              "      <td>2019/03/14</td>\n",
              "      <td>Standard Class</td>\n",
              "      <td>Truck</td>\n",
              "      <td>744796.41</td>\n",
              "      <td>1</td>\n",
              "      <td>0.83</td>\n",
              "      <td>diners-club-carte-blanche</td>\n",
              "      <td>Bad</td>\n",
              "    </tr>\n",
              "    <tr>\n",
              "      <th>2019-02-13</th>\n",
              "      <td>2</td>\n",
              "      <td>Tagopia</td>\n",
              "      <td>9444</td>\n",
              "      <td>Toyota</td>\n",
              "      <td>Tundra</td>\n",
              "      <td>Crimson</td>\n",
              "      <td>2010</td>\n",
              "      <td>672222.04</td>\n",
              "      <td>67457-594</td>\n",
              "      <td>Alexandros Manuel</td>\n",
              "      <td>Male</td>\n",
              "      <td>Structural Engineer</td>\n",
              "      <td>Saint Cloud</td>\n",
              "      <td>Minnesota</td>\n",
              "      <td>0699-5728</td>\n",
              "      <td>2019/03/06</td>\n",
              "      <td>Standard Class</td>\n",
              "      <td>Truck</td>\n",
              "      <td>794773.17</td>\n",
              "      <td>1</td>\n",
              "      <td>0.79</td>\n",
              "      <td>jcb</td>\n",
              "      <td>Good</td>\n",
              "    </tr>\n",
              "    <tr>\n",
              "      <th>2018-08-16</th>\n",
              "      <td>3</td>\n",
              "      <td>Zoomdog</td>\n",
              "      <td>253</td>\n",
              "      <td>GMC</td>\n",
              "      <td>Savana 1500</td>\n",
              "      <td>Crimson</td>\n",
              "      <td>2011</td>\n",
              "      <td>504465.72</td>\n",
              "      <td>58411-135</td>\n",
              "      <td>Alvie Weighell</td>\n",
              "      <td>Male</td>\n",
              "      <td>Systems Administrator III</td>\n",
              "      <td>Chicago</td>\n",
              "      <td>Illinois</td>\n",
              "      <td>42043-251</td>\n",
              "      <td>2019/01/20</td>\n",
              "      <td>Second Class</td>\n",
              "      <td>Air</td>\n",
              "      <td>968244.90</td>\n",
              "      <td>1</td>\n",
              "      <td>0.28</td>\n",
              "      <td>jcb</td>\n",
              "      <td>Okay</td>\n",
              "    </tr>\n",
              "    <tr>\n",
              "      <th>2019-02-22</th>\n",
              "      <td>4</td>\n",
              "      <td>Oozz</td>\n",
              "      <td>1283</td>\n",
              "      <td>Volkswagen</td>\n",
              "      <td>Cabriolet</td>\n",
              "      <td>Fuscia</td>\n",
              "      <td>1990</td>\n",
              "      <td>646077.11</td>\n",
              "      <td>0591-5307</td>\n",
              "      <td>Flint Gunston</td>\n",
              "      <td>Male</td>\n",
              "      <td>Operator</td>\n",
              "      <td>Orlando</td>\n",
              "      <td>Florida</td>\n",
              "      <td>57520-1044</td>\n",
              "      <td>2019/03/16</td>\n",
              "      <td>First Class</td>\n",
              "      <td>Truck</td>\n",
              "      <td>942213.82</td>\n",
              "      <td>2</td>\n",
              "      <td>0.76</td>\n",
              "      <td>jcb</td>\n",
              "      <td>Very Bad</td>\n",
              "    </tr>\n",
              "    <tr>\n",
              "      <th>2018-09-06</th>\n",
              "      <td>5</td>\n",
              "      <td>Kare</td>\n",
              "      <td>8905</td>\n",
              "      <td>Mercury</td>\n",
              "      <td>Mariner</td>\n",
              "      <td>Teal</td>\n",
              "      <td>2009</td>\n",
              "      <td>699890.24</td>\n",
              "      <td>51655-189</td>\n",
              "      <td>Alyssa Filpi</td>\n",
              "      <td>Female</td>\n",
              "      <td>Software Engineer III</td>\n",
              "      <td>Detroit</td>\n",
              "      <td>Michigan</td>\n",
              "      <td>36987-3308</td>\n",
              "      <td>2019/01/29</td>\n",
              "      <td>Second Class</td>\n",
              "      <td>Air</td>\n",
              "      <td>879519.57</td>\n",
              "      <td>1</td>\n",
              "      <td>0.50</td>\n",
              "      <td>china-unionpay</td>\n",
              "      <td>Bad</td>\n",
              "    </tr>\n",
              "  </tbody>\n",
              "</table>\n",
              "</div>\n",
              "      <button class=\"colab-df-convert\" onclick=\"convertToInteractive('df-94ffc896-703b-4d8f-acb6-dba4c81682ad')\"\n",
              "              title=\"Convert this dataframe to an interactive table.\"\n",
              "              style=\"display:none;\">\n",
              "        \n",
              "  <svg xmlns=\"http://www.w3.org/2000/svg\" height=\"24px\"viewBox=\"0 0 24 24\"\n",
              "       width=\"24px\">\n",
              "    <path d=\"M0 0h24v24H0V0z\" fill=\"none\"/>\n",
              "    <path d=\"M18.56 5.44l.94 2.06.94-2.06 2.06-.94-2.06-.94-.94-2.06-.94 2.06-2.06.94zm-11 1L8.5 8.5l.94-2.06 2.06-.94-2.06-.94L8.5 2.5l-.94 2.06-2.06.94zm10 10l.94 2.06.94-2.06 2.06-.94-2.06-.94-.94-2.06-.94 2.06-2.06.94z\"/><path d=\"M17.41 7.96l-1.37-1.37c-.4-.4-.92-.59-1.43-.59-.52 0-1.04.2-1.43.59L10.3 9.45l-7.72 7.72c-.78.78-.78 2.05 0 2.83L4 21.41c.39.39.9.59 1.41.59.51 0 1.02-.2 1.41-.59l7.78-7.78 2.81-2.81c.8-.78.8-2.07 0-2.86zM5.41 20L4 18.59l7.72-7.72 1.47 1.35L5.41 20z\"/>\n",
              "  </svg>\n",
              "      </button>\n",
              "      \n",
              "  <style>\n",
              "    .colab-df-container {\n",
              "      display:flex;\n",
              "      flex-wrap:wrap;\n",
              "      gap: 12px;\n",
              "    }\n",
              "\n",
              "    .colab-df-convert {\n",
              "      background-color: #E8F0FE;\n",
              "      border: none;\n",
              "      border-radius: 50%;\n",
              "      cursor: pointer;\n",
              "      display: none;\n",
              "      fill: #1967D2;\n",
              "      height: 32px;\n",
              "      padding: 0 0 0 0;\n",
              "      width: 32px;\n",
              "    }\n",
              "\n",
              "    .colab-df-convert:hover {\n",
              "      background-color: #E2EBFA;\n",
              "      box-shadow: 0px 1px 2px rgba(60, 64, 67, 0.3), 0px 1px 3px 1px rgba(60, 64, 67, 0.15);\n",
              "      fill: #174EA6;\n",
              "    }\n",
              "\n",
              "    [theme=dark] .colab-df-convert {\n",
              "      background-color: #3B4455;\n",
              "      fill: #D2E3FC;\n",
              "    }\n",
              "\n",
              "    [theme=dark] .colab-df-convert:hover {\n",
              "      background-color: #434B5C;\n",
              "      box-shadow: 0px 1px 3px 1px rgba(0, 0, 0, 0.15);\n",
              "      filter: drop-shadow(0px 1px 2px rgba(0, 0, 0, 0.3));\n",
              "      fill: #FFFFFF;\n",
              "    }\n",
              "  </style>\n",
              "\n",
              "      <script>\n",
              "        const buttonEl =\n",
              "          document.querySelector('#df-94ffc896-703b-4d8f-acb6-dba4c81682ad button.colab-df-convert');\n",
              "        buttonEl.style.display =\n",
              "          google.colab.kernel.accessAllowed ? 'block' : 'none';\n",
              "\n",
              "        async function convertToInteractive(key) {\n",
              "          const element = document.querySelector('#df-94ffc896-703b-4d8f-acb6-dba4c81682ad');\n",
              "          const dataTable =\n",
              "            await google.colab.kernel.invokeFunction('convertToInteractive',\n",
              "                                                     [key], {});\n",
              "          if (!dataTable) return;\n",
              "\n",
              "          const docLinkHtml = 'Like what you see? Visit the ' +\n",
              "            '<a target=\"_blank\" href=https://colab.research.google.com/notebooks/data_table.ipynb>data table notebook</a>'\n",
              "            + ' to learn more about interactive tables.';\n",
              "          element.innerHTML = '';\n",
              "          dataTable['output_type'] = 'display_data';\n",
              "          await google.colab.output.renderOutput(dataTable, element);\n",
              "          const docLink = document.createElement('div');\n",
              "          docLink.innerHTML = docLinkHtml;\n",
              "          element.appendChild(docLink);\n",
              "        }\n",
              "      </script>\n",
              "    </div>\n",
              "  </div>\n",
              "  "
            ],
            "text/plain": [
              "            SupplierID SupplierName  ...             CreditCardType CustomerFeedback\n",
              "OrderDate                            ...                                            \n",
              "2018-12-16           1   Bubbletube  ...  diners-club-carte-blanche              Bad\n",
              "2019-02-13           2      Tagopia  ...                        jcb             Good\n",
              "2018-08-16           3      Zoomdog  ...                        jcb             Okay\n",
              "2019-02-22           4         Oozz  ...                        jcb         Very Bad\n",
              "2018-09-06           5         Kare  ...             china-unionpay              Bad\n",
              "\n",
              "[5 rows x 23 columns]"
            ]
          },
          "metadata": {},
          "execution_count": 91
        }
      ]
    },
    {
      "cell_type": "code",
      "source": [
        "sns.distplot(data['CarPrice'])"
      ],
      "metadata": {
        "colab": {
          "base_uri": "https://localhost:8080/",
          "height": 362
        },
        "id": "TcpJxB_-ozrP",
        "outputId": "9a280119-a35b-45b6-950a-fb0f72dd6a81"
      },
      "execution_count": 92,
      "outputs": [
        {
          "output_type": "stream",
          "name": "stderr",
          "text": [
            "/usr/local/lib/python3.7/dist-packages/seaborn/distributions.py:2619: FutureWarning: `distplot` is a deprecated function and will be removed in a future version. Please adapt your code to use either `displot` (a figure-level function with similar flexibility) or `histplot` (an axes-level function for histograms).\n",
            "  warnings.warn(msg, FutureWarning)\n"
          ]
        },
        {
          "output_type": "execute_result",
          "data": {
            "text/plain": [
              "<matplotlib.axes._subplots.AxesSubplot at 0x7f6d126e8650>"
            ]
          },
          "metadata": {},
          "execution_count": 92
        },
        {
          "output_type": "display_data",
          "data": {
            "image/png": "[encoded data removed]",
            "text/plain": [
              "<Figure size 432x288 with 1 Axes>"
            ]
          },
          "metadata": {
            "needs_background": "light"
          }
        }
      ]
    },
    {
      "cell_type": "code",
      "source": [
        "data['State'].value_counts().plot.bar(figsize=(30,8), title= \"Total penjualan mobil berdasarkan negara bagian (state)\")"
      ],
      "metadata": {
        "colab": {
          "base_uri": "https://localhost:8080/",
          "height": 600
        },
        "id": "Tc4XFnUZpK-W",
        "outputId": "de17d00f-cfde-45eb-a5f8-09cf52e359cd"
      },
      "execution_count": 93,
      "outputs": [
        {
          "output_type": "execute_result",
          "data": {
            "text/plain": [
              "<matplotlib.axes._subplots.AxesSubplot at 0x7f6d12816490>"
            ]
          },
          "metadata": {},
          "execution_count": 93
        },
        {
          "output_type": "display_data",
          "data": {
            "image/png": "[encoded data removed]",
            "text/plain": [
              "<Figure size 2160x576 with 1 Axes>"
            ]
          },
          "metadata": {
            "needs_background": "light"
          }
        }
      ]
    },
    {
      "cell_type": "code",
      "source": [
        "data['CarMaker'].value_counts().plot.bar(figsize=(30,8), title= \"Total penjualan mobil berdasarkan merek\")"
      ],
      "metadata": {
        "colab": {
          "base_uri": "https://localhost:8080/",
          "height": 580
        },
        "id": "95ziyEHXq73J",
        "outputId": "ee1023f7-6fd3-41e3-a04d-06d856346c73"
      },
      "execution_count": 94,
      "outputs": [
        {
          "output_type": "execute_result",
          "data": {
            "text/plain": [
              "<matplotlib.axes._subplots.AxesSubplot at 0x7f6d12cee190>"
            ]
          },
          "metadata": {},
          "execution_count": 94
        },
        {
          "output_type": "display_data",
          "data": {
            "image/png": "[encoded data removed]",
            "text/plain": [
              "<Figure size 2160x576 with 1 Axes>"
            ]
          },
          "metadata": {
            "needs_background": "light"
          }
        }
      ]
    },
    {
      "cell_type": "code",
      "source": [
        "sns.distplot(data['CarModelYear'])"
      ],
      "metadata": {
        "colab": {
          "base_uri": "https://localhost:8080/",
          "height": 350
        },
        "id": "MBjdrHsEta6u",
        "outputId": "fade2318-2239-4215-aa6b-ca07112d7768"
      },
      "execution_count": 95,
      "outputs": [
        {
          "output_type": "stream",
          "name": "stderr",
          "text": [
            "/usr/local/lib/python3.7/dist-packages/seaborn/distributions.py:2619: FutureWarning: `distplot` is a deprecated function and will be removed in a future version. Please adapt your code to use either `displot` (a figure-level function with similar flexibility) or `histplot` (an axes-level function for histograms).\n",
            "  warnings.warn(msg, FutureWarning)\n"
          ]
        },
        {
          "output_type": "execute_result",
          "data": {
            "text/plain": [
              "<matplotlib.axes._subplots.AxesSubplot at 0x7f6d12530ad0>"
            ]
          },
          "metadata": {},
          "execution_count": 95
        },
        {
          "output_type": "display_data",
          "data": {
            "image/png": "[encoded data removed]",
            "text/plain": [
              "<Figure size 432x288 with 1 Axes>"
            ]
          },
          "metadata": {
            "needs_background": "light"
          }
        }
      ]
    },
    {
      "cell_type": "code",
      "source": [
        "plt.figure(figsize=(15, 8), dpi=80)\n",
        "plt.scatter(x=data['CarModelYear'],y=data['CarPrice'])\n",
        "plt.show()"
      ],
      "metadata": {
        "colab": {
          "base_uri": "https://localhost:8080/",
          "height": 533
        },
        "id": "w-sW-gEXtwZH",
        "outputId": "237ea094-2b4b-4fbc-a2f9-926bdb4004bd"
      },
      "execution_count": 96,
      "outputs": [
        {
          "output_type": "display_data",
          "data": {
            "image/png": "[encoded data removed]",
            "text/plain": [
              "<Figure size 1200x640 with 1 Axes>"
            ]
          },
          "metadata": {
            "needs_background": "light"
          }
        }
      ]
    },
    {
      "cell_type": "code",
      "source": [
        "data['CarColor'].value_counts().plot.bar(figsize=(20,8), title= \"Total penjualan mobil berdasarkan warna\")"
      ],
      "metadata": {
        "colab": {
          "base_uri": "https://localhost:8080/",
          "height": 552
        },
        "id": "NvrHnDrBCuTx",
        "outputId": "d137eab3-0e02-4fe3-e54a-cf34fe01ff25"
      },
      "execution_count": 97,
      "outputs": [
        {
          "output_type": "execute_result",
          "data": {
            "text/plain": [
              "<matplotlib.axes._subplots.AxesSubplot at 0x7f6d122d3810>"
            ]
          },
          "metadata": {},
          "execution_count": 97
        },
        {
          "output_type": "display_data",
          "data": {
            "image/png": "[encoded data removed]",
            "text/plain": [
              "<Figure size 1440x576 with 1 Axes>"
            ]
          },
          "metadata": {
            "needs_background": "light"
          }
        }
      ]
    },
    {
      "cell_type": "code",
      "source": [
        "sns.distplot(np.log(data['CarPrice']))"
      ],
      "metadata": {
        "colab": {
          "base_uri": "https://localhost:8080/",
          "height": 350
        },
        "id": "QbUD7FF0I28o",
        "outputId": "e194ec78-686a-4523-e12a-654a081bbc13"
      },
      "execution_count": 98,
      "outputs": [
        {
          "output_type": "stream",
          "name": "stderr",
          "text": [
            "/usr/local/lib/python3.7/dist-packages/seaborn/distributions.py:2619: FutureWarning: `distplot` is a deprecated function and will be removed in a future version. Please adapt your code to use either `displot` (a figure-level function with similar flexibility) or `histplot` (an axes-level function for histograms).\n",
            "  warnings.warn(msg, FutureWarning)\n"
          ]
        },
        {
          "output_type": "execute_result",
          "data": {
            "text/plain": [
              "<matplotlib.axes._subplots.AxesSubplot at 0x7f6d12579050>"
            ]
          },
          "metadata": {},
          "execution_count": 98
        },
        {
          "output_type": "display_data",
          "data": {
            "image/png": "[encoded data removed]",
            "text/plain": [
              "<Figure size 432x288 with 1 Axes>"
            ]
          },
          "metadata": {
            "needs_background": "light"
          }
        }
      ]
    },
    {
      "cell_type": "code",
      "source": [
        "data['ShipMode'].value_counts().plot.bar(figsize=(20,8), title= \"Total penjualan mobil berdasarkan mode pengiriman\")"
      ],
      "metadata": {
        "colab": {
          "base_uri": "https://localhost:8080/",
          "height": 581
        },
        "id": "2O7-SAxQrdHB",
        "outputId": "4edb325b-41aa-45b3-d1ca-de5a2ea1254e"
      },
      "execution_count": 99,
      "outputs": [
        {
          "output_type": "execute_result",
          "data": {
            "text/plain": [
              "<matplotlib.axes._subplots.AxesSubplot at 0x7f6d12188a50>"
            ]
          },
          "metadata": {},
          "execution_count": 99
        },
        {
          "output_type": "display_data",
          "data": {
            "image/png": "[encoded data removed]",
            "text/plain": [
              "<Figure size 1440x576 with 1 Axes>"
            ]
          },
          "metadata": {
            "needs_background": "light"
          }
        }
      ]
    },
    {
      "cell_type": "code",
      "source": [
        "data['Shipping'].value_counts().plot.bar(figsize=(20,8), title= \"Total penjualan mobil berdasarkan pengiriman\")"
      ],
      "metadata": {
        "colab": {
          "base_uri": "https://localhost:8080/",
          "height": 532
        },
        "id": "-Ek3s1y3uzUB",
        "outputId": "225b7a59-fd86-45dc-f4c4-fa61717a503a"
      },
      "execution_count": 100,
      "outputs": [
        {
          "output_type": "execute_result",
          "data": {
            "text/plain": [
              "<matplotlib.axes._subplots.AxesSubplot at 0x7f6d120ddb50>"
            ]
          },
          "metadata": {},
          "execution_count": 100
        },
        {
          "output_type": "display_data",
          "data": {
            "image/png": "[encoded data removed]",
            "text/plain": [
              "<Figure size 1440x576 with 1 Axes>"
            ]
          },
          "metadata": {
            "needs_background": "light"
          }
        }
      ]
    },
    {
      "cell_type": "code",
      "source": [
        "data['CustomerFeedback'].unique()"
      ],
      "metadata": {
        "colab": {
          "base_uri": "https://localhost:8080/"
        },
        "id": "ccw1KVh2wHou",
        "outputId": "e88691c2-135e-414d-b512-77466cedb2c9"
      },
      "execution_count": 101,
      "outputs": [
        {
          "output_type": "execute_result",
          "data": {
            "text/plain": [
              "array(['Bad', 'Good', 'Okay', 'Very Bad', 'Very Good'], dtype=object)"
            ]
          },
          "metadata": {},
          "execution_count": 101
        }
      ]
    },
    {
      "cell_type": "code",
      "source": [
        "vgood = data[(data['CustomerFeedback'] == 'Very Good')]\n",
        "good = data[(data['CustomerFeedback'] == 'Good')]\n",
        "okay = data[(data['CustomerFeedback'] == 'Okay')]\n",
        "bad = data[(data['CustomerFeedback'] == 'Bad')]\n",
        "vbad = data[(data['CustomerFeedback'] == 'Very Bad')]\n",
        "count1 = vgood['ShipMode'].value_counts()\n",
        "count2 = good['ShipMode'].value_counts()\n",
        "count3 = okay['ShipMode'].value_counts()\n",
        "count4 = bad['ShipMode'].value_counts()\n",
        "count5 = vbad['ShipMode'].value_counts()\n",
        "names=data['ShipMode'].value_counts().keys()\n",
        "n_groups=4\n",
        "fig,ax = plt.subplots(figsize=(20,8))\n",
        "index=np.arange(n_groups)\n",
        "bar_width=0.15\n",
        "opacity=0.6\n",
        "type1=plt.bar(index,count1,bar_width,alpha=opacity,color='b',label='Very Good')\n",
        "type2=plt.bar(index+bar_width,count2,bar_width,alpha=opacity,color='g',label='Good')\n",
        "type3=plt.bar(index+bar_width+bar_width,count3,bar_width,alpha=opacity,color='y',label='Okay')\n",
        "type4=plt.bar(index+bar_width+bar_width+bar_width,count4,bar_width,alpha=opacity,color='r',label='Bad')\n",
        "type5=plt.bar(index+bar_width+bar_width+bar_width+bar_width,count5,bar_width,alpha=opacity,color='k',label='Very Bad')\n",
        "plt.xlabel('Kelas pengiriman')\n",
        "plt.ylabel('Penjualan')\n",
        "plt.title('Feedback customer terhadap mode pengiriman mobil')\n",
        "plt.legend()\n",
        "plt.xticks(index+bar_width,names,rotation=90)\n",
        "plt.tight_layout()\n",
        "plt.show()"
      ],
      "metadata": {
        "colab": {
          "base_uri": "https://localhost:8080/",
          "height": 585
        },
        "id": "CbjOIEIqwY0c",
        "outputId": "aa03e733-9725-4776-ef54-38256c9fc983"
      },
      "execution_count": 102,
      "outputs": [
        {
          "output_type": "display_data",
          "data": {
            "image/png": "[encoded data removed]",
            "text/plain": [
              "<Figure size 1440x576 with 1 Axes>"
            ]
          },
          "metadata": {
            "needs_background": "light"
          }
        }
      ]
    },
    {
      "cell_type": "code",
      "source": [
        "feedback = data[(data['CustomerFeedback'] == 'Very Bad')]\n",
        "feedback['SupplierName'].value_counts().nlargest(10).plot.bar(figsize=(20,8), title = \"10 teratas supplier yang memiliki feedback sangat buruk dari customer\")"
      ],
      "metadata": {
        "colab": {
          "base_uri": "https://localhost:8080/",
          "height": 562
        },
        "id": "PMbf2x85wpt4",
        "outputId": "dd2ab62a-98da-4d3b-8f04-c26a1f5cae2e"
      },
      "execution_count": 126,
      "outputs": [
        {
          "output_type": "execute_result",
          "data": {
            "text/plain": [
              "<matplotlib.axes._subplots.AxesSubplot at 0x7f6d11af5f90>"
            ]
          },
          "metadata": {},
          "execution_count": 126
        },
        {
          "output_type": "display_data",
          "data": {
            "image/png": "[encoded data removed]",
            "text/plain": [
              "<Figure size 1440x576 with 1 Axes>"
            ]
          },
          "metadata": {
            "needs_background": "light"
          }
        }
      ]
    }
  ]
}